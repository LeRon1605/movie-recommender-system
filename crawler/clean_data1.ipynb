{
 "cells": [
  {
   "cell_type": "code",
   "execution_count": 18,
   "metadata": {},
   "outputs": [],
   "source": [
    "import pandas as pd"
   ]
  },
  {
   "cell_type": "code",
   "execution_count": 19,
   "metadata": {},
   "outputs": [],
   "source": [
    "df_movie = pd.read_csv('../dataset/movie_final.csv')    "
   ]
  },
  {
   "cell_type": "code",
   "execution_count": 20,
   "metadata": {},
   "outputs": [
    {
     "name": "stderr",
     "output_type": "stream",
     "text": [
      "C:\\Users\\HP\\AppData\\Local\\Temp\\ipykernel_22524\\1441954198.py:6: SettingWithCopyWarning: \n",
      "A value is trying to be set on a copy of a slice from a DataFrame\n",
      "\n",
      "See the caveats in the documentation: https://pandas.pydata.org/pandas-docs/stable/user_guide/indexing.html#returning-a-view-versus-a-copy\n",
      "  df_movie['writers'][index] = '|'.join(str(x) for x in arr)\n"
     ]
    }
   ],
   "source": [
    "writers = df_movie['writers']\n",
    "for index, i in enumerate(writers):\n",
    "    arr = i.split(\"|\", 1)\n",
    "    if(arr[0] == 'Writers'):\n",
    "        arr.pop(0)\n",
    "    df_movie['writers'][index] = '|'.join(str(x) for x in arr)"
   ]
  },
  {
   "cell_type": "code",
   "execution_count": 21,
   "metadata": {},
   "outputs": [
    {
     "name": "stderr",
     "output_type": "stream",
     "text": [
      "C:\\Users\\HP\\AppData\\Local\\Temp\\ipykernel_22524\\1124103135.py:6: SettingWithCopyWarning: \n",
      "A value is trying to be set on a copy of a slice from a DataFrame\n",
      "\n",
      "See the caveats in the documentation: https://pandas.pydata.org/pandas-docs/stable/user_guide/indexing.html#returning-a-view-versus-a-copy\n",
      "  df_movie['directors'][index] =  '|'.join(arr)\n"
     ]
    }
   ],
   "source": [
    "directors = df_movie['directors']\n",
    "for index, i in enumerate(directors):\n",
    "    arr = i.split(\"|\", 1)\n",
    "    if(arr[0] == 'Directors'):\n",
    "        arr.pop(0)\n",
    "    df_movie['directors'][index] =  '|'.join(arr)"
   ]
  },
  {
   "cell_type": "code",
   "execution_count": 22,
   "metadata": {},
   "outputs": [
    {
     "name": "stderr",
     "output_type": "stream",
     "text": [
      "C:\\Users\\HP\\AppData\\Local\\Temp\\ipykernel_22524\\2621633267.py:4: SettingWithCopyWarning: \n",
      "A value is trying to be set on a copy of a slice from a DataFrame\n",
      "\n",
      "See the caveats in the documentation: https://pandas.pydata.org/pandas-docs/stable/user_guide/indexing.html#returning-a-view-versus-a-copy\n",
      "  df_movie['duration'][i] = int(time[:time.index('h')]) * 60\n",
      "C:\\Users\\HP\\AppData\\Local\\Temp\\ipykernel_22524\\2621633267.py:9: SettingWithCopyWarning: \n",
      "A value is trying to be set on a copy of a slice from a DataFrame\n",
      "\n",
      "See the caveats in the documentation: https://pandas.pydata.org/pandas-docs/stable/user_guide/indexing.html#returning-a-view-versus-a-copy\n",
      "  df_movie['duration'][i] += int(time.split(' ')[1][:time.split(' ')[1].index('m')])\n",
      "C:\\Users\\HP\\AppData\\Local\\Temp\\ipykernel_22524\\2621633267.py:6: SettingWithCopyWarning: \n",
      "A value is trying to be set on a copy of a slice from a DataFrame\n",
      "\n",
      "See the caveats in the documentation: https://pandas.pydata.org/pandas-docs/stable/user_guide/indexing.html#returning-a-view-versus-a-copy\n",
      "  df_movie['duration'][i] = int(time[:time.index('m')])\n"
     ]
    }
   ],
   "source": [
    "for i in range(0, len(df_movie)):\n",
    "    time = df_movie['duration'][i]\n",
    "    try:\n",
    "        df_movie['duration'][i] = int(time[:time.index('h')]) * 60\n",
    "    except:\n",
    "        df_movie['duration'][i] = int(time[:time.index('m')])\n",
    "\n",
    "    if len(time.split(' ')) > 1:\n",
    "        df_movie['duration'][i] += int(time.split(' ')[1][:time.split(' ')[1].index('m')])"
   ]
  },
  {
   "cell_type": "code",
   "execution_count": 23,
   "metadata": {},
   "outputs": [
    {
     "name": "stderr",
     "output_type": "stream",
     "text": [
      "C:\\Users\\HP\\AppData\\Local\\Temp\\ipykernel_22524\\303477517.py:5: SettingWithCopyWarning: \n",
      "A value is trying to be set on a copy of a slice from a DataFrame\n",
      "\n",
      "See the caveats in the documentation: https://pandas.pydata.org/pandas-docs/stable/user_guide/indexing.html#returning-a-view-versus-a-copy\n",
      "  df_movie['releaseYear'][index] = i\n"
     ]
    },
    {
     "data": {
      "text/plain": [
       "0     2022\n",
       "1     1988\n",
       "2     2019\n",
       "3     2019\n",
       "4     2019\n",
       "5     2022\n",
       "6     2017\n",
       "7     1989\n",
       "8     2023\n",
       "9     1999\n",
       "10    2008\n",
       "11    1989\n",
       "12    1931\n",
       "13    1995\n",
       "14    2023\n",
       "15    2004\n",
       "16    2005\n",
       "17    2001\n",
       "18    1988\n",
       "19    1996\n",
       "20    1927\n",
       "21    1940\n",
       "22    2004\n",
       "23    2014\n",
       "24    2023\n",
       "25    1950\n",
       "26    2010\n",
       "27    2004\n",
       "28    1966\n",
       "29    2015\n",
       "30    1998\n",
       "31    1984\n",
       "32    1974\n",
       "33    1954\n",
       "34    2010\n",
       "35    2022\n",
       "36    2020\n",
       "37    2019\n",
       "38    2022\n",
       "39    2006\n",
       "40    1984\n",
       "41    1959\n",
       "42    2021\n",
       "43    1997\n",
       "44    2012\n",
       "45    2001\n",
       "46    2006\n",
       "47    2001\n",
       "48    2000\n",
       "49    2022\n",
       "Name: releaseYear, dtype: int64"
      ]
     },
     "execution_count": 23,
     "metadata": {},
     "output_type": "execute_result"
    }
   ],
   "source": [
    "years = df_movie['releaseYear']\n",
    "for index, i in enumerate(years):\n",
    "    if len(str(i)) == 8:\n",
    "        i = int(str(i)[4:8])\n",
    "        df_movie['releaseYear'][index] = i "
   ]
  },
  {
   "cell_type": "code",
   "execution_count": 24,
   "metadata": {},
   "outputs": [],
   "source": [
    "df_movie.to_csv('../dataset/movie_final.csv', index = False, sep=',')"
   ]
  }
 ],
 "metadata": {
  "kernelspec": {
   "display_name": "Python 3",
   "language": "python",
   "name": "python3"
  },
  "language_info": {
   "codemirror_mode": {
    "name": "ipython",
    "version": 3
   },
   "file_extension": ".py",
   "mimetype": "text/x-python",
   "name": "python",
   "nbconvert_exporter": "python",
   "pygments_lexer": "ipython3",
   "version": "3.9.13"
  },
  "orig_nbformat": 4
 },
 "nbformat": 4,
 "nbformat_minor": 2
}
