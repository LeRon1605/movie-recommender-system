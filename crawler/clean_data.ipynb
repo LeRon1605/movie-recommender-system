{
 "cells": [
  {
   "cell_type": "code",
   "execution_count": 100,
   "metadata": {},
   "outputs": [],
   "source": [
    "import pandas as pd\n",
    "import matplotlib.pyplot as plt\n",
    "from collections import Counter\n",
    "\n",
    "df_rating = pd.read_csv('../dataset/rating_final.csv')\n",
    "df_movie = pd.read_csv('../dataset/movie.csv')"
   ]
  },
  {
   "cell_type": "code",
   "execution_count": 101,
   "metadata": {},
   "outputs": [
    {
     "data": {
      "text/html": [
       "<div>\n",
       "<style scoped>\n",
       "    .dataframe tbody tr th:only-of-type {\n",
       "        vertical-align: middle;\n",
       "    }\n",
       "\n",
       "    .dataframe tbody tr th {\n",
       "        vertical-align: top;\n",
       "    }\n",
       "\n",
       "    .dataframe thead th {\n",
       "        text-align: right;\n",
       "    }\n",
       "</style>\n",
       "<table border=\"1\" class=\"dataframe\">\n",
       "  <thead>\n",
       "    <tr style=\"text-align: right;\">\n",
       "      <th></th>\n",
       "      <th>id</th>\n",
       "      <th>name</th>\n",
       "      <th>url</th>\n",
       "      <th>poster</th>\n",
       "      <th>average_rating</th>\n",
       "    </tr>\n",
       "  </thead>\n",
       "  <tbody>\n",
       "    <tr>\n",
       "      <th>0</th>\n",
       "      <td>tt0107692</td>\n",
       "      <td>Ninja Scroll</td>\n",
       "      <td>https://www.imdb.com/title/tt0107692</td>\n",
       "      <td>https://m.media-amazon.com/images/M/MV5BNmEwYm...</td>\n",
       "      <td>7.8</td>\n",
       "    </tr>\n",
       "    <tr>\n",
       "      <th>1</th>\n",
       "      <td>tt0106364</td>\n",
       "      <td>Batman: Mask of the Phantasm</td>\n",
       "      <td>https://www.imdb.com/title/tt0106364</td>\n",
       "      <td>https://m.media-amazon.com/images/M/MV5BYTRiMW...</td>\n",
       "      <td>7.8</td>\n",
       "    </tr>\n",
       "    <tr>\n",
       "      <th>2</th>\n",
       "      <td>tt0275277</td>\n",
       "      <td>Cowboy Bebop: The Movie</td>\n",
       "      <td>https://www.imdb.com/title/tt0275277</td>\n",
       "      <td>https://m.media-amazon.com/images/M/MV5BNTE5YT...</td>\n",
       "      <td>7.8</td>\n",
       "    </tr>\n",
       "    <tr>\n",
       "      <th>3</th>\n",
       "      <td>tt0291350</td>\n",
       "      <td>Millennium Actress</td>\n",
       "      <td>https://www.imdb.com/title/tt0291350</td>\n",
       "      <td>https://m.media-amazon.com/images/M/MV5BNmY4ND...</td>\n",
       "      <td>7.8</td>\n",
       "    </tr>\n",
       "    <tr>\n",
       "      <th>4</th>\n",
       "      <td>tt0388473</td>\n",
       "      <td>Tokyo Godfathers</td>\n",
       "      <td>https://www.imdb.com/title/tt0388473</td>\n",
       "      <td>https://m.media-amazon.com/images/S/sash/4Fyxw...</td>\n",
       "      <td>7.8</td>\n",
       "    </tr>\n",
       "    <tr>\n",
       "      <th>5</th>\n",
       "      <td>tt2321405</td>\n",
       "      <td>My Life as a Zucchini</td>\n",
       "      <td>https://www.imdb.com/title/tt2321405</td>\n",
       "      <td>https://m.media-amazon.com/images/S/sash/4Fyxw...</td>\n",
       "      <td>7.8</td>\n",
       "    </tr>\n",
       "    <tr>\n",
       "      <th>6</th>\n",
       "      <td>tt0327597</td>\n",
       "      <td>Coraline</td>\n",
       "      <td>https://www.imdb.com/title/tt0327597</td>\n",
       "      <td>https://m.media-amazon.com/images/S/sash/4Fyxw...</td>\n",
       "      <td>7.7</td>\n",
       "    </tr>\n",
       "    <tr>\n",
       "      <th>7</th>\n",
       "      <td>tt0398286</td>\n",
       "      <td>Tangled</td>\n",
       "      <td>https://www.imdb.com/title/tt0398286</td>\n",
       "      <td>https://m.media-amazon.com/images/S/sash/4Fyxw...</td>\n",
       "      <td>7.7</td>\n",
       "    </tr>\n",
       "    <tr>\n",
       "      <th>8</th>\n",
       "      <td>tt1490017</td>\n",
       "      <td>The Lego Movie</td>\n",
       "      <td>https://www.imdb.com/title/tt1490017</td>\n",
       "      <td>https://m.media-amazon.com/images/S/sash/4Fyxw...</td>\n",
       "      <td>7.7</td>\n",
       "    </tr>\n",
       "    <tr>\n",
       "      <th>9</th>\n",
       "      <td>tt1979376</td>\n",
       "      <td>Toy Story 4</td>\n",
       "      <td>https://www.imdb.com/title/tt1979376</td>\n",
       "      <td>https://m.media-amazon.com/images/S/sash/4Fyxw...</td>\n",
       "      <td>7.7</td>\n",
       "    </tr>\n",
       "  </tbody>\n",
       "</table>\n",
       "</div>"
      ],
      "text/plain": [
       "          id                          name  \\\n",
       "0  tt0107692                  Ninja Scroll   \n",
       "1  tt0106364  Batman: Mask of the Phantasm   \n",
       "2  tt0275277       Cowboy Bebop: The Movie   \n",
       "3  tt0291350            Millennium Actress   \n",
       "4  tt0388473              Tokyo Godfathers   \n",
       "5  tt2321405         My Life as a Zucchini   \n",
       "6  tt0327597                      Coraline   \n",
       "7  tt0398286                       Tangled   \n",
       "8  tt1490017                The Lego Movie   \n",
       "9  tt1979376                   Toy Story 4   \n",
       "\n",
       "                                    url  \\\n",
       "0  https://www.imdb.com/title/tt0107692   \n",
       "1  https://www.imdb.com/title/tt0106364   \n",
       "2  https://www.imdb.com/title/tt0275277   \n",
       "3  https://www.imdb.com/title/tt0291350   \n",
       "4  https://www.imdb.com/title/tt0388473   \n",
       "5  https://www.imdb.com/title/tt2321405   \n",
       "6  https://www.imdb.com/title/tt0327597   \n",
       "7  https://www.imdb.com/title/tt0398286   \n",
       "8  https://www.imdb.com/title/tt1490017   \n",
       "9  https://www.imdb.com/title/tt1979376   \n",
       "\n",
       "                                              poster  average_rating  \n",
       "0  https://m.media-amazon.com/images/M/MV5BNmEwYm...             7.8  \n",
       "1  https://m.media-amazon.com/images/M/MV5BYTRiMW...             7.8  \n",
       "2  https://m.media-amazon.com/images/M/MV5BNTE5YT...             7.8  \n",
       "3  https://m.media-amazon.com/images/M/MV5BNmY4ND...             7.8  \n",
       "4  https://m.media-amazon.com/images/S/sash/4Fyxw...             7.8  \n",
       "5  https://m.media-amazon.com/images/S/sash/4Fyxw...             7.8  \n",
       "6  https://m.media-amazon.com/images/S/sash/4Fyxw...             7.7  \n",
       "7  https://m.media-amazon.com/images/S/sash/4Fyxw...             7.7  \n",
       "8  https://m.media-amazon.com/images/S/sash/4Fyxw...             7.7  \n",
       "9  https://m.media-amazon.com/images/S/sash/4Fyxw...             7.7  "
      ]
     },
     "execution_count": 101,
     "metadata": {},
     "output_type": "execute_result"
    }
   ],
   "source": [
    "df_movie.head(10)"
   ]
  },
  {
   "cell_type": "code",
   "execution_count": 102,
   "metadata": {},
   "outputs": [
    {
     "data": {
      "text/html": [
       "<div>\n",
       "<style scoped>\n",
       "    .dataframe tbody tr th:only-of-type {\n",
       "        vertical-align: middle;\n",
       "    }\n",
       "\n",
       "    .dataframe tbody tr th {\n",
       "        vertical-align: top;\n",
       "    }\n",
       "\n",
       "    .dataframe thead th {\n",
       "        text-align: right;\n",
       "    }\n",
       "</style>\n",
       "<table border=\"1\" class=\"dataframe\">\n",
       "  <thead>\n",
       "    <tr style=\"text-align: right;\">\n",
       "      <th></th>\n",
       "      <th>movie_id</th>\n",
       "      <th>user_id</th>\n",
       "      <th>rate</th>\n",
       "    </tr>\n",
       "  </thead>\n",
       "  <tbody>\n",
       "    <tr>\n",
       "      <th>0</th>\n",
       "      <td>tt0032455</td>\n",
       "      <td>ur156820301</td>\n",
       "      <td>5.0</td>\n",
       "    </tr>\n",
       "    <tr>\n",
       "      <th>1</th>\n",
       "      <td>tt0032455</td>\n",
       "      <td>ur89008813</td>\n",
       "      <td>3.0</td>\n",
       "    </tr>\n",
       "    <tr>\n",
       "      <th>2</th>\n",
       "      <td>tt0104652</td>\n",
       "      <td>ur0281280</td>\n",
       "      <td>6.0</td>\n",
       "    </tr>\n",
       "    <tr>\n",
       "      <th>3</th>\n",
       "      <td>tt0104652</td>\n",
       "      <td>ur104436023</td>\n",
       "      <td>2.0</td>\n",
       "    </tr>\n",
       "    <tr>\n",
       "      <th>4</th>\n",
       "      <td>tt0104652</td>\n",
       "      <td>ur94900494</td>\n",
       "      <td>10.0</td>\n",
       "    </tr>\n",
       "    <tr>\n",
       "      <th>5</th>\n",
       "      <td>tt3901826</td>\n",
       "      <td>ur58133658</td>\n",
       "      <td>10.0</td>\n",
       "    </tr>\n",
       "    <tr>\n",
       "      <th>6</th>\n",
       "      <td>tt1488589</td>\n",
       "      <td>ur57257775</td>\n",
       "      <td>6.0</td>\n",
       "    </tr>\n",
       "    <tr>\n",
       "      <th>7</th>\n",
       "      <td>tt0441773</td>\n",
       "      <td>ur66705434</td>\n",
       "      <td>9.0</td>\n",
       "    </tr>\n",
       "    <tr>\n",
       "      <th>8</th>\n",
       "      <td>tt0097757</td>\n",
       "      <td>ur1192901</td>\n",
       "      <td>10.0</td>\n",
       "    </tr>\n",
       "    <tr>\n",
       "      <th>9</th>\n",
       "      <td>tt7979580</td>\n",
       "      <td>ur0337549</td>\n",
       "      <td>2.0</td>\n",
       "    </tr>\n",
       "  </tbody>\n",
       "</table>\n",
       "</div>"
      ],
      "text/plain": [
       "    movie_id      user_id  rate\n",
       "0  tt0032455  ur156820301   5.0\n",
       "1  tt0032455   ur89008813   3.0\n",
       "2  tt0104652    ur0281280   6.0\n",
       "3  tt0104652  ur104436023   2.0\n",
       "4  tt0104652   ur94900494  10.0\n",
       "5  tt3901826   ur58133658  10.0\n",
       "6  tt1488589   ur57257775   6.0\n",
       "7  tt0441773   ur66705434   9.0\n",
       "8  tt0097757    ur1192901  10.0\n",
       "9  tt7979580    ur0337549   2.0"
      ]
     },
     "execution_count": 102,
     "metadata": {},
     "output_type": "execute_result"
    }
   ],
   "source": [
    "df_rating.head(10)"
   ]
  },
  {
   "attachments": {},
   "cell_type": "markdown",
   "metadata": {},
   "source": [
    "**Remove Duplicate Rows**"
   ]
  },
  {
   "cell_type": "code",
   "execution_count": 103,
   "metadata": {},
   "outputs": [
    {
     "name": "stdout",
     "output_type": "stream",
     "text": [
      "Rating has 59241 rows, has duplicated rows: False\n",
      "Movie has 653 rows, has duplicated rows: False\n",
      "After removing duplicates rows\n",
      "Rating has 59241 rows, has duplicated rows: False\n",
      "Movie has 653 rows, has duplicated rows: False\n"
     ]
    }
   ],
   "source": [
    "print(f'Rating has {len(df_rating)} rows, has duplicated rows: {df_rating.duplicated().any()}')\n",
    "print(f'Movie has {len(df_movie)} rows, has duplicated rows: {df_movie.duplicated().any()}')\n",
    "\n",
    "df_rating = df_rating.drop_duplicates(keep = 'last')\n",
    "df_movie = df_movie.drop_duplicates(subset = ['id'], keep = 'last')\n",
    "\n",
    "print('After removing duplicates rows')\n",
    "print(f'Rating has {len(df_rating)} rows, has duplicated rows: {df_rating.duplicated().any()}')\n",
    "print(f'Movie has {len(df_movie)} rows, has duplicated rows: {df_movie.duplicated().any()}')"
   ]
  },
  {
   "cell_type": "code",
   "execution_count": 104,
   "metadata": {},
   "outputs": [
    {
     "name": "stdout",
     "output_type": "stream",
     "text": [
      "Sparse ratio: 0.1209)\n"
     ]
    }
   ],
   "source": [
    "print(f\"Sparse ratio: {len(df_rating) / (len(df_rating['movie_id'].unique()) * len(df_rating['user_id'].unique()))})\")"
   ]
  },
  {
   "attachments": {},
   "cell_type": "markdown",
   "metadata": {},
   "source": [
    "Choose best candidates movie, user which has appeared most in dataset"
   ]
  },
  {
   "cell_type": "code",
   "execution_count": 105,
   "metadata": {},
   "outputs": [
    {
     "name": "stdout",
     "output_type": "stream",
     "text": [
      "59241\n",
      "Sparse ratio: 0.118482\n"
     ]
    }
   ],
   "source": [
    "number_of_user = 1000\n",
    "number_of_movie = 500\n",
    "\n",
    "user_id_count = Counter(df_rating['user_id'])\n",
    "movie_ids_count = Counter(df_rating['movie_id'])\n",
    "\n",
    "user_ids = [u for u, c in user_id_count.most_common(number_of_user)]\n",
    "movie_ids = [m for m, c in movie_ids_count.most_common(number_of_movie)]\n",
    "\n",
    "df_small = df_rating[df_rating['user_id'].isin(user_ids) & df_rating['movie_id'].isin(movie_ids)].copy()\n",
    "df_small = df_small.drop_duplicates(keep='first')\n",
    "\n",
    "df_movie_small = df_movie[df_movie['id'].isin(movie_ids)].drop('url', axis = 1, inplace = False)\n",
    "df_user_small = pd.DataFrame([[u_id, u_id] for u_id in user_ids], columns=['id', 'username'])\n",
    "\n",
    "print(len(df_small))\n",
    "print(f'Sparse ratio: {len(df_small) / (number_of_user * number_of_movie)}')"
   ]
  },
  {
   "cell_type": "code",
   "execution_count": 106,
   "metadata": {},
   "outputs": [],
   "source": [
    "df_small.to_csv('../dataset/rating_final.csv', index = False, sep=',')\n",
    "df_movie_small.to_csv('../dataset/movie_final.csv', index = False, sep=',')\n",
    "df_user_small.to_csv('../dataset/user_final.csv', index = False, sep=',')"
   ]
  }
 ],
 "metadata": {
  "kernelspec": {
   "display_name": "Python 3",
   "language": "python",
   "name": "python3"
  },
  "language_info": {
   "codemirror_mode": {
    "name": "ipython",
    "version": 3
   },
   "file_extension": ".py",
   "mimetype": "text/x-python",
   "name": "python",
   "nbconvert_exporter": "python",
   "pygments_lexer": "ipython3",
   "version": "3.11.1"
  },
  "orig_nbformat": 4
 },
 "nbformat": 4,
 "nbformat_minor": 2
}
