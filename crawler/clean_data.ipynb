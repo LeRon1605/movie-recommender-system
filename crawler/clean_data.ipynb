{
 "cells": [
  {
   "cell_type": "code",
   "execution_count": 21,
   "metadata": {},
   "outputs": [],
   "source": [
    "import pandas as pd\n",
    "import matplotlib.pyplot as plt\n",
    "from collections import Counter\n",
    "\n",
    "df_movie = pd.read_csv('../dataset/movie.csv')\n",
    "df_rating = pd.read_csv('../dataset/rating_final.csv')"
   ]
  },
  {
   "cell_type": "code",
   "execution_count": 2,
   "metadata": {},
   "outputs": [
    {
     "data": {
      "text/html": [
       "<div>\n",
       "<style scoped>\n",
       "    .dataframe tbody tr th:only-of-type {\n",
       "        vertical-align: middle;\n",
       "    }\n",
       "\n",
       "    .dataframe tbody tr th {\n",
       "        vertical-align: top;\n",
       "    }\n",
       "\n",
       "    .dataframe thead th {\n",
       "        text-align: right;\n",
       "    }\n",
       "</style>\n",
       "<table border=\"1\" class=\"dataframe\">\n",
       "  <thead>\n",
       "    <tr style=\"text-align: right;\">\n",
       "      <th></th>\n",
       "      <th>movie_id</th>\n",
       "      <th>user_id</th>\n",
       "      <th>rate</th>\n",
       "    </tr>\n",
       "  </thead>\n",
       "  <tbody>\n",
       "    <tr>\n",
       "      <th>0</th>\n",
       "      <td>tt0107692</td>\n",
       "      <td>ur3071695</td>\n",
       "      <td>8.0</td>\n",
       "    </tr>\n",
       "    <tr>\n",
       "      <th>1</th>\n",
       "      <td>tt0107692</td>\n",
       "      <td>ur80388571</td>\n",
       "      <td>10.0</td>\n",
       "    </tr>\n",
       "    <tr>\n",
       "      <th>2</th>\n",
       "      <td>tt0107692</td>\n",
       "      <td>ur20552756</td>\n",
       "      <td>10.0</td>\n",
       "    </tr>\n",
       "    <tr>\n",
       "      <th>3</th>\n",
       "      <td>tt0107692</td>\n",
       "      <td>ur0892646</td>\n",
       "      <td>10.0</td>\n",
       "    </tr>\n",
       "    <tr>\n",
       "      <th>4</th>\n",
       "      <td>tt0107692</td>\n",
       "      <td>ur0453068</td>\n",
       "      <td>10.0</td>\n",
       "    </tr>\n",
       "    <tr>\n",
       "      <th>5</th>\n",
       "      <td>tt0107692</td>\n",
       "      <td>ur2685454</td>\n",
       "      <td>9.0</td>\n",
       "    </tr>\n",
       "    <tr>\n",
       "      <th>6</th>\n",
       "      <td>tt0107692</td>\n",
       "      <td>ur0740195</td>\n",
       "      <td>10.0</td>\n",
       "    </tr>\n",
       "    <tr>\n",
       "      <th>7</th>\n",
       "      <td>tt0107692</td>\n",
       "      <td>ur2810112</td>\n",
       "      <td>10.0</td>\n",
       "    </tr>\n",
       "    <tr>\n",
       "      <th>8</th>\n",
       "      <td>tt0107692</td>\n",
       "      <td>ur18145747</td>\n",
       "      <td>10.0</td>\n",
       "    </tr>\n",
       "    <tr>\n",
       "      <th>9</th>\n",
       "      <td>tt0107692</td>\n",
       "      <td>ur14923871</td>\n",
       "      <td>9.0</td>\n",
       "    </tr>\n",
       "  </tbody>\n",
       "</table>\n",
       "</div>"
      ],
      "text/plain": [
       "    movie_id     user_id  rate\n",
       "0  tt0107692   ur3071695   8.0\n",
       "1  tt0107692  ur80388571  10.0\n",
       "2  tt0107692  ur20552756  10.0\n",
       "3  tt0107692   ur0892646  10.0\n",
       "4  tt0107692   ur0453068  10.0\n",
       "5  tt0107692   ur2685454   9.0\n",
       "6  tt0107692   ur0740195  10.0\n",
       "7  tt0107692   ur2810112  10.0\n",
       "8  tt0107692  ur18145747  10.0\n",
       "9  tt0107692  ur14923871   9.0"
      ]
     },
     "execution_count": 2,
     "metadata": {},
     "output_type": "execute_result"
    }
   ],
   "source": [
    "df_rating.head(10)"
   ]
  },
  {
   "attachments": {},
   "cell_type": "markdown",
   "metadata": {},
   "source": [
    "**Remove Duplicate Rows**"
   ]
  },
  {
   "cell_type": "code",
   "execution_count": 22,
   "metadata": {},
   "outputs": [
    {
     "name": "stdout",
     "output_type": "stream",
     "text": [
      "Rating has 59241 rows, has duplicated rows: False\n",
      "Movie has 653 rows, has duplicated rows: False\n",
      "After removing duplicates rows\n",
      "Rating has 59241 rows, has duplicated rows: False\n",
      "Movie has 653 rows, has duplicated rows: False\n"
     ]
    }
   ],
   "source": [
    "print(f'Rating has {len(df_rating)} rows, has duplicated rows: {df_rating.duplicated().any()}')\n",
    "print(f'Movie has {len(df_movie)} rows, has duplicated rows: {df_movie.duplicated().any()}')\n",
    "\n",
    "df_rating = df_rating.drop_duplicates(keep = 'last')\n",
    "df_movie = df_movie.drop_duplicates(subset = ['id'], keep = 'last')\n",
    "\n",
    "print('After removing duplicates rows')\n",
    "print(f'Rating has {len(df_rating)} rows, has duplicated rows: {df_rating.duplicated().any()}')\n",
    "print(f'Movie has {len(df_movie)} rows, has duplicated rows: {df_movie.duplicated().any()}')"
   ]
  },
  {
   "cell_type": "code",
   "execution_count": 23,
   "metadata": {},
   "outputs": [
    {
     "name": "stdout",
     "output_type": "stream",
     "text": [
      "Sparse ratio: 0.1209)\n"
     ]
    }
   ],
   "source": [
    "print(f\"Sparse ratio: {len(df_rating) / (len(df_rating['movie_id'].unique()) * len(df_rating['user_id'].unique()))})\")"
   ]
  },
  {
   "attachments": {},
   "cell_type": "markdown",
   "metadata": {},
   "source": [
    "Choose best candidates movie, user which has appeared most in dataset"
   ]
  },
  {
   "cell_type": "code",
   "execution_count": 24,
   "metadata": {},
   "outputs": [
    {
     "name": "stdout",
     "output_type": "stream",
     "text": [
      "59241\n",
      "Sparse ratio: 0.118482\n"
     ]
    }
   ],
   "source": [
    "number_of_user = 1000\n",
    "number_of_movie = 500\n",
    "\n",
    "user_id_count = Counter(df_rating['user_id'])\n",
    "movie_ids_count = Counter(df_rating['movie_id'])\n",
    "\n",
    "user_ids = [u for u, c in user_id_count.most_common(number_of_user)]\n",
    "movie_ids = [m for m, c in movie_ids_count.most_common(number_of_movie)]\n",
    "\n",
    "df_small = df_rating[df_rating['user_id'].isin(user_ids) & df_rating['movie_id'].isin(movie_ids)].copy()\n",
    "df_small = df_small.drop_duplicates(keep='first')\n",
    "\n",
    "print(len(df_small))\n",
    "print(f'Sparse ratio: {len(df_small) / (number_of_user * number_of_movie)}')"
   ]
  },
  {
   "cell_type": "code",
   "execution_count": 20,
   "metadata": {},
   "outputs": [],
   "source": [
    "df_small.to_csv('../dataset/rating_final.csv', index = False, sep=',')"
   ]
  }
 ],
 "metadata": {
  "kernelspec": {
   "display_name": "Python 3",
   "language": "python",
   "name": "python3"
  },
  "language_info": {
   "codemirror_mode": {
    "name": "ipython",
    "version": 3
   },
   "file_extension": ".py",
   "mimetype": "text/x-python",
   "name": "python",
   "nbconvert_exporter": "python",
   "pygments_lexer": "ipython3",
   "version": "3.11.1"
  },
  "orig_nbformat": 4
 },
 "nbformat": 4,
 "nbformat_minor": 2
}
